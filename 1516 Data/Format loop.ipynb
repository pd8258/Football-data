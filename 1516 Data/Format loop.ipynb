{
 "cells": [
  {
   "cell_type": "code",
   "execution_count": 1,
   "metadata": {
    "collapsed": false
   },
   "outputs": [
    {
     "data": {
      "text/plain": [
       "'Done'"
      ]
     },
     "execution_count": 1,
     "metadata": {},
     "output_type": "execute_result"
    }
   ],
   "source": [
    "import numpy as np\n",
    "import pandas as pd\n",
    "from pandas import Series,DataFrame\n",
    "\n",
    "for w in range(1,16):\n",
    "    out1 = pd.read_csv(\"FantraxPlayers_Outfield (%s).csv\"%w)\n",
    "    out2 = pd.read_csv(\"FantraxPlayers_Outfield2 (%s).csv\"%w)\n",
    "    gk = pd.read_csv(\"FantraxPlayers_Goalkeepers (%s).csv\"%w)\n",
    "    \n",
    "    out_1 = out1.drop(out1.columns[4:7], axis=1)\n",
    "    del out_1['Rk']\n",
    "    out_2 = out2.drop(out2.columns[4:7], axis=1)\n",
    "    del out_2['Rk']\n",
    "    gks = gk.drop(gk.columns[4:7], axis=1)\n",
    "    del gks['Rk']\n",
    "    \n",
    "    out = pd.merge(out_1,out_2)\n",
    "    full = pd.concat([out,gks],ignore_index=True)\n",
    "    \n",
    "    players = full['Player']\n",
    "    names = []\n",
    "    teams = []\n",
    "    for player in players:\n",
    "      if (player[-3:] == 'OUR') or (player[-3:] == 'EIC'):\n",
    "        names.append(player[:-7])\n",
    "        teams.append(player[-4:])\n",
    "      else:\n",
    "        names.append(player[:-6])\n",
    "        teams.append(player[-3:])\n",
    "    full['Name'] = names\n",
    "    full['Team'] = teams\n",
    "    \n",
    "    indexed = full.set_index(['Team','Name'])\n",
    "\n",
    "\n",
    "    week = w+1\n",
    "    indexed.to_csv(\"Week%s.csv\"%week)\n",
    "                  \n",
    "done = 'Done'\n",
    "done\n"
   ]
  },
  {
   "cell_type": "code",
   "execution_count": null,
   "metadata": {
    "collapsed": true
   },
   "outputs": [],
   "source": []
  },
  {
   "cell_type": "code",
   "execution_count": null,
   "metadata": {
    "collapsed": true
   },
   "outputs": [],
   "source": []
  },
  {
   "cell_type": "code",
   "execution_count": null,
   "metadata": {
    "collapsed": true
   },
   "outputs": [],
   "source": []
  },
  {
   "cell_type": "code",
   "execution_count": null,
   "metadata": {
    "collapsed": true
   },
   "outputs": [],
   "source": []
  },
  {
   "cell_type": "code",
   "execution_count": null,
   "metadata": {
    "collapsed": true
   },
   "outputs": [],
   "source": []
  },
  {
   "cell_type": "code",
   "execution_count": null,
   "metadata": {
    "collapsed": true
   },
   "outputs": [],
   "source": []
  },
  {
   "cell_type": "code",
   "execution_count": null,
   "metadata": {
    "collapsed": true
   },
   "outputs": [],
   "source": []
  },
  {
   "cell_type": "code",
   "execution_count": null,
   "metadata": {
    "collapsed": true
   },
   "outputs": [],
   "source": []
  },
  {
   "cell_type": "code",
   "execution_count": null,
   "metadata": {
    "collapsed": true
   },
   "outputs": [],
   "source": []
  },
  {
   "cell_type": "code",
   "execution_count": null,
   "metadata": {
    "collapsed": true
   },
   "outputs": [],
   "source": []
  },
  {
   "cell_type": "code",
   "execution_count": null,
   "metadata": {
    "collapsed": true
   },
   "outputs": [],
   "source": []
  }
 ],
 "metadata": {
  "kernelspec": {
   "display_name": "Python 2",
   "language": "python",
   "name": "python2"
  },
  "language_info": {
   "codemirror_mode": {
    "name": "ipython",
    "version": 2
   },
   "file_extension": ".py",
   "mimetype": "text/x-python",
   "name": "python",
   "nbconvert_exporter": "python",
   "pygments_lexer": "ipython2",
   "version": "2.7.10"
  }
 },
 "nbformat": 4,
 "nbformat_minor": 0
}
